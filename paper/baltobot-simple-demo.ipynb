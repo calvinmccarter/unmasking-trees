{
 "cells": [
  {
   "cell_type": "code",
   "execution_count": 1,
   "id": "c8be354b-c400-4d08-9434-cc0051072192",
   "metadata": {},
   "outputs": [],
   "source": [
    "import matplotlib as mpl\n",
    "mpl.rcParams['font.family'] = 'Arial'\n",
    "mpl.rcParams['text.usetex'] = False\n",
    "import matplotlib.pyplot as plt\n",
    "import numpy as np\n",
    "import seaborn as sns\n",
    "import pandas as pd\n",
    "import time\n",
    "from utrees import Baltobot\n",
    "from treeffuser import Treeffuser\n",
    "time.time()\n",
    "\n",
    "# Generate the data\n",
    "seed = 0\n",
    "n = 5000\n",
    "rng = np.random.default_rng(seed=seed)\n",
    "x = rng.uniform(0, 2 * np.pi, size=n)\n",
    "z = rng.integers(0, 2, size=n)\n",
    "y = z * np.sin(x - np.pi / 2) + (1 - z) * np.cos(x) + rng.laplace(scale=x / 30, size=n)"
   ]
  },
  {
   "cell_type": "code",
   "execution_count": 2,
   "id": "6383abd1-52a1-42ab-ae29-eb09b5d28c6b",
   "metadata": {
    "scrolled": true
   },
   "outputs": [
    {
     "name": "stderr",
     "output_type": "stream",
     "text": [
      "/Users/calvinm/miniconda3/envs/maskingtrees/lib/python3.9/site-packages/treeffuser/_base_tabular_diffusion.py:110: CastFloat32Warning: Input array is not float32; it has been recast to float32.\n",
      "  X = _check_array(X)\n",
      "/Users/calvinm/miniconda3/envs/maskingtrees/lib/python3.9/site-packages/treeffuser/_base_tabular_diffusion.py:113: CastFloat32Warning: Input array is not float32; it has been recast to float32.\n",
      "  y = _check_array(y)\n",
      "/Users/calvinm/miniconda3/envs/maskingtrees/lib/python3.9/site-packages/treeffuser/_base_tabular_diffusion.py:110: CastFloat32Warning: Input array is not float32; it has been recast to float32.\n",
      "  X = _check_array(X)\n",
      "/Users/calvinm/sandbox/unmasking-trees/utrees/baltobot.py:49: UserWarning: Support for TabPFN is experimental.\n",
      "  warnings.warn('Support for TabPFN is experimental.')\n",
      "/Users/calvinm/miniconda3/envs/maskingtrees/lib/python3.9/site-packages/tqdm/auto.py:21: TqdmWarning: IProgress not found. Please update jupyter and ipywidgets. See https://ipywidgets.readthedocs.io/en/stable/user_install.html\n",
      "  from .autonotebook import tqdm as notebook_tqdm\n"
     ]
    }
   ],
   "source": [
    "# Fit the models\n",
    "start_time = time.time()\n",
    "tfer = Treeffuser(sde_initialize_from_data=True, seed=seed)\n",
    "tfer.fit(x, y)\n",
    "tf_train_time = time.time() - start_time\n",
    "y_tfer = tfer.sample(x, n_samples=1, seed=seed, verbose=True)\n",
    "tf_time = time.time() - start_time\n",
    "\n",
    "start_time = time.time()\n",
    "tber = Baltobot(random_state=seed)\n",
    "tber.fit(x.reshape(-1, 1), y)\n",
    "tb_train_time = time.time() - start_time\n",
    "y_tber = tber.sample(x.reshape(-1, 1))\n",
    "tb_time = time.time() - start_time\n",
    "\n",
    "start_time = time.time()\n",
    "tbtaber = Baltobot(tabpfn=True, random_state=seed)\n",
    "tbtaber.fit(x.reshape(-1, 1), y)\n",
    "tbtab_train_time = time.time() - start_time\n",
    "y_tbtaber = tbtaber.sample(x.reshape(-1, 1))\n",
    "tbtab_time = time.time() - start_time"
   ]
  },
  {
   "cell_type": "code",
   "execution_count": 3,
   "id": "2cb69a60-0533-40f0-a405-93be28619f6d",
   "metadata": {},
   "outputs": [
    {
     "data": {
      "text/html": [
       "<div>\n",
       "<style scoped>\n",
       "    .dataframe tbody tr th:only-of-type {\n",
       "        vertical-align: middle;\n",
       "    }\n",
       "\n",
       "    .dataframe tbody tr th {\n",
       "        vertical-align: top;\n",
       "    }\n",
       "\n",
       "    .dataframe thead th {\n",
       "        text-align: right;\n",
       "    }\n",
       "</style>\n",
       "<table border=\"1\" class=\"dataframe\">\n",
       "  <thead>\n",
       "    <tr style=\"text-align: right;\">\n",
       "      <th></th>\n",
       "      <th>Method</th>\n",
       "      <th>Task</th>\n",
       "      <th>Time</th>\n",
       "    </tr>\n",
       "  </thead>\n",
       "  <tbody>\n",
       "    <tr>\n",
       "      <th>0</th>\n",
       "      <td>Treeffuser</td>\n",
       "      <td>Total</td>\n",
       "      <td>6.401965</td>\n",
       "    </tr>\n",
       "    <tr>\n",
       "      <th>1</th>\n",
       "      <td>Treeffuser</td>\n",
       "      <td>Training</td>\n",
       "      <td>1.356733</td>\n",
       "    </tr>\n",
       "    <tr>\n",
       "      <th>2</th>\n",
       "      <td>Treeffuser</td>\n",
       "      <td>Sampling</td>\n",
       "      <td>5.045232</td>\n",
       "    </tr>\n",
       "    <tr>\n",
       "      <th>3</th>\n",
       "      <td>Baltobot</td>\n",
       "      <td>Total</td>\n",
       "      <td>3.175086</td>\n",
       "    </tr>\n",
       "    <tr>\n",
       "      <th>4</th>\n",
       "      <td>Baltobot</td>\n",
       "      <td>Training</td>\n",
       "      <td>2.396088</td>\n",
       "    </tr>\n",
       "    <tr>\n",
       "      <th>5</th>\n",
       "      <td>Baltobot</td>\n",
       "      <td>Sampling</td>\n",
       "      <td>0.778998</td>\n",
       "    </tr>\n",
       "    <tr>\n",
       "      <th>6</th>\n",
       "      <td>BaltoboTabPFN</td>\n",
       "      <td>Total</td>\n",
       "      <td>12.216128</td>\n",
       "    </tr>\n",
       "    <tr>\n",
       "      <th>7</th>\n",
       "      <td>BaltoboTabPFN</td>\n",
       "      <td>Training</td>\n",
       "      <td>2.148450</td>\n",
       "    </tr>\n",
       "    <tr>\n",
       "      <th>8</th>\n",
       "      <td>BaltoboTabPFN</td>\n",
       "      <td>Sampling</td>\n",
       "      <td>10.067678</td>\n",
       "    </tr>\n",
       "  </tbody>\n",
       "</table>\n",
       "</div>"
      ],
      "text/plain": [
       "          Method      Task       Time\n",
       "0     Treeffuser     Total   6.401965\n",
       "1     Treeffuser  Training   1.356733\n",
       "2     Treeffuser  Sampling   5.045232\n",
       "3       Baltobot     Total   3.175086\n",
       "4       Baltobot  Training   2.396088\n",
       "5       Baltobot  Sampling   0.778998\n",
       "6  BaltoboTabPFN     Total  12.216128\n",
       "7  BaltoboTabPFN  Training   2.148450\n",
       "8  BaltoboTabPFN  Sampling  10.067678"
      ]
     },
     "execution_count": 3,
     "metadata": {},
     "output_type": "execute_result"
    }
   ],
   "source": [
    "fig, axes = plt.subplots(nrows=3, figsize=(7, 7), sharex=True, dpi=300);\n",
    "axes[0].scatter(x, y, s=1, label=\"Observed data\")\n",
    "axes[0].scatter(x, y_tfer[0, :], s=1, alpha=0.7, label=\"Treeffuser samples\")\n",
    "axes[0].legend();\n",
    "\n",
    "axes[1].scatter(x, y, s=1, label=\"Observed data\")\n",
    "axes[1].scatter(x, y_tber, s=1, alpha=0.7, label=\"Baltobot samples\")\n",
    "axes[1].legend();\n",
    "\n",
    "axes[2].scatter(x, y, s=1, label=\"Observed data\")\n",
    "axes[2].scatter(x, y_tbtaber, s=1, alpha=0.7, label=\"BaltoboTabPFN samples\")\n",
    "axes[2].legend();\n",
    "plt.tight_layout();\n",
    "plt.savefig('wave-demo.png');\n",
    "plt.close();\n",
    "\n",
    "plt.figure(dpi=200, figsize=(4,3));\n",
    "total_time_df = pd.DataFrame.from_dict({'Treeffuser': [tf_time], 'Baltobot': [tb_time], 'BaltoboTabPFN': [tbtab_time]}).T\n",
    "total_time_df.columns = ['Total']\n",
    "train_time_df = pd.DataFrame.from_dict({'Treeffuser': [tf_train_time], 'Baltobot': [tb_train_time], 'BaltoboTabPFN': [tbtab_train_time]}).T\n",
    "train_time_df.columns = ['Training']\n",
    "time_df = pd.concat([total_time_df, train_time_df], axis=1)\n",
    "time_df['Sampling'] = time_df['Total'] - time_df['Training']\n",
    "\n",
    "time_dff = time_df.stack().reset_index()\n",
    "time_dff.columns = ['Method', 'Task', 'Time']\n",
    "sns.barplot(data=time_dff, y='Method', x='Time', hue='Task');\n",
    "plt.ylabel('Method');\n",
    "plt.xlabel('Time (s)');\n",
    "plt.tight_layout();\n",
    "plt.savefig('wave-demo-time.png');\n",
    "plt.close()\n",
    "time_dff"
   ]
  },
  {
   "cell_type": "code",
   "execution_count": 4,
   "id": "ccb3079e-72a3-403a-8ea4-d3b9a2435493",
   "metadata": {},
   "outputs": [],
   "source": [
    "lhs, rhs = np.meshgrid(np.linspace(-1, 7, 30), np.linspace(-3,2, 30))\n",
    "lhsrhs = np.hstack([lhs.reshape(-1, 1), rhs.reshape(-1, 1)])\n",
    "plt.figure();\n",
    "plt.scatter(lhsrhs[:, 0], lhsrhs[:, 1])\n",
    "scores = tber.score_samples(lhs.reshape(-1, 1), rhs.reshape(-1))\n",
    "plt.close();\n",
    "plt.figure();\n",
    "plt.scatter(lhsrhs[:, 0], lhsrhs[:, 1], s=100*np.exp(scores));\n",
    "plt.close();"
   ]
  },
  {
   "cell_type": "code",
   "execution_count": 5,
   "id": "671dac1d-054b-4f64-8ca8-17676bd064b7",
   "metadata": {},
   "outputs": [
    {
     "name": "stdout",
     "output_type": "stream",
     "text": [
      "0.9820769258371294 0.9859963150095391\n"
     ]
    }
   ],
   "source": [
    "Xs = 2 * np.ones((1000, 1))\n",
    "Ys = np.linspace(-5, 5, 1000)\n",
    "tb_scores = tber.score_samples(Xs, Ys)\n",
    "tbtab_scores = tbtaber.score_samples(Xs, Ys)\n",
    "print(np.exp(tb_scores).sum() * (Ys[1]-Ys[0]), np.exp(tbtab_scores).sum() * (Ys[1]-Ys[0]))\n",
    "plt.figure(figsize=(4,2), dpi=200);\n",
    "plt.plot(Ys, np.exp(tb_scores), label='Baltobot');\n",
    "plt.plot(Ys, np.exp(tbtab_scores), '--', label='BaltoboTabPFN');\n",
    "plt.xlim(-2, 2);\n",
    "plt.legend(loc='upper left', bbox_to_anchor=(1.0, 1.05));\n",
    "plt.xlabel('y');\n",
    "plt.ylabel('pdf at x=2');\n",
    "plt.tight_layout();\n",
    "plt.savefig('wave-pdfat2.png');\n",
    "plt.close();"
   ]
  },
  {
   "cell_type": "code",
   "execution_count": 6,
   "id": "24ca0b83-9b7e-468f-8f34-823a36c917e6",
   "metadata": {},
   "outputs": [
    {
     "name": "stderr",
     "output_type": "stream",
     "text": [
      "/Users/calvinm/miniconda3/envs/maskingtrees/lib/python3.9/site-packages/treeffuser/_base_tabular_diffusion.py:110: CastFloat32Warning: Input array is not float32; it has been recast to float32.\n",
      "  X = _check_array(X)\n",
      "/Users/calvinm/miniconda3/envs/maskingtrees/lib/python3.9/site-packages/treeffuser/_base_tabular_diffusion.py:113: CastFloat32Warning: Input array is not float32; it has been recast to float32.\n",
      "  y = _check_array(y)\n",
      "/Users/calvinm/miniconda3/envs/maskingtrees/lib/python3.9/site-packages/treeffuser/_base_tabular_diffusion.py:110: CastFloat32Warning: Input array is not float32; it has been recast to float32.\n",
      "  X = _check_array(X)\n"
     ]
    }
   ],
   "source": [
    "nP = 500\n",
    "rng = np.random.default_rng(seed=seed)\n",
    "XP = rng.uniform(0, 3, size=nP)\n",
    "YP = rng.poisson(np.sqrt(XP), size=nP)\n",
    "tfer = Treeffuser(sde_initialize_from_data=True, seed=seed)\n",
    "tfer.fit(XP, YP)\n",
    "YP_tfer = tfer.sample(XP, n_samples=1, seed=seed, verbose=True)\n",
    "tber = Baltobot(random_state=seed)\n",
    "tber.fit(XP.reshape(-1, 1), YP)\n",
    "YP_tber = tber.sample(XP.reshape(-1, 1))"
   ]
  },
  {
   "cell_type": "code",
   "execution_count": 7,
   "id": "12dfdd1a-805c-4f7d-9b58-f06552ab97fb",
   "metadata": {},
   "outputs": [],
   "source": [
    "dfP = pd.DataFrame(); dfP['x'] = XP; dfP['y'] = YP\n",
    "s = 8; linewidth=0.3; edgecolor='white'; markercolor='blue';\n",
    "fig, axes = plt.subplots(figsize=(7,3), ncols=3, sharey=True, dpi=500);\n",
    "sns.scatterplot(data=dfP, x='x', y='y', s=s, edgecolor=edgecolor, linewidth=linewidth, color=markercolor, ax=axes[0])\n",
    "axes[0].set_title('Original data');\n",
    "dfP_tfer = pd.DataFrame(); dfP_tfer['x'] = XP; dfP_tfer['y'] = YP_tfer.ravel()\n",
    "sns.scatterplot(data=dfP_tfer, x='x', y='y', s=s, edgecolor=edgecolor, linewidth=linewidth, color=markercolor, ax=axes[1])\n",
    "axes[1].set_title('Treeffuser')\n",
    "dfP_tber = pd.DataFrame(); dfP_tber['x'] = XP; dfP_tber['y'] = YP_tber\n",
    "sns.scatterplot(data=dfP_tber, x='x', y='y', s=s, edgecolor=edgecolor, linewidth=linewidth, color=markercolor, ax=axes[2])\n",
    "axes[2].set_title('Baltobot')\n",
    "plt.tight_layout();\n",
    "plt.savefig('poisson-demo.png');\n",
    "plt.close();"
   ]
  },
  {
   "cell_type": "code",
   "execution_count": null,
   "id": "92ae5c29-84e4-403b-8dd4-5fd7f0bb827c",
   "metadata": {},
   "outputs": [],
   "source": []
  }
 ],
 "metadata": {
  "kernelspec": {
   "display_name": "Python 3 (ipykernel)",
   "language": "python",
   "name": "python3"
  },
  "language_info": {
   "codemirror_mode": {
    "name": "ipython",
    "version": 3
   },
   "file_extension": ".py",
   "mimetype": "text/x-python",
   "name": "python",
   "nbconvert_exporter": "python",
   "pygments_lexer": "ipython3",
   "version": "3.9.19"
  }
 },
 "nbformat": 4,
 "nbformat_minor": 5
}
